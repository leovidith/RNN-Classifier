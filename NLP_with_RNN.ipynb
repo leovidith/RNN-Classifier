{
  "nbformat": 4,
  "nbformat_minor": 0,
  "metadata": {
    "colab": {
      "provenance": [],
      "toc_visible": true
    },
    "kernelspec": {
      "name": "python3",
      "display_name": "Python 3"
    },
    "language_info": {
      "name": "python"
    }
  },
  "cells": [
    {
      "cell_type": "markdown",
      "source": [
        "## Importing necessary libraries"
      ],
      "metadata": {
        "id": "Hnwhzv_lGvkl"
      }
    },
    {
      "cell_type": "code",
      "execution_count": null,
      "metadata": {
        "id": "InRGgMpYB7mp"
      },
      "outputs": [],
      "source": [
        "from tensorflow.keras.preprocessing.text import Tokenizer\n",
        "from tensorflow.keras.utils import pad_sequences\n",
        "from tensorflow.keras import Sequential\n",
        "from tensorflow.keras.utils import to_categorical\n",
        "from tensorflow.keras.layers import Dense, SimpleRNN, Embedding, Flatten\n",
        "\n",
        "import tensorflow as tf\n",
        "import numpy as np\n",
        "import pandas as pd\n",
        "import matplotlib.pyplot as plt\n",
        "\n",
        "import re,nltk\n",
        "from nltk.stem import PorterStemmer\n",
        "from nltk.corpus import stopwords\n",
        "from nltk.tokenize import word_tokenize"
      ]
    },
    {
      "cell_type": "markdown",
      "source": [
        "## Loading the data"
      ],
      "metadata": {
        "id": "vgzDkh7rGy2h"
      }
    },
    {
      "cell_type": "code",
      "source": [
        "train_ds = pd.read_csv('/content/train.csv',encoding='latin1');\n",
        "validation_ds = pd.read_csv('/content/test.csv',encoding='latin1');\n",
        "train_ds.info()"
      ],
      "metadata": {
        "id": "YNMPvA8sCNKX",
        "colab": {
          "base_uri": "https://localhost:8080/"
        },
        "outputId": "0305d417-a32e-4457-cd8b-55d3c839f1ca"
      },
      "execution_count": null,
      "outputs": [
        {
          "output_type": "stream",
          "name": "stdout",
          "text": [
            "<class 'pandas.core.frame.DataFrame'>\n",
            "RangeIndex: 27481 entries, 0 to 27480\n",
            "Data columns (total 10 columns):\n",
            " #   Column            Non-Null Count  Dtype  \n",
            "---  ------            --------------  -----  \n",
            " 0   textID            27481 non-null  object \n",
            " 1   text              27480 non-null  object \n",
            " 2   selected_text     27480 non-null  object \n",
            " 3   sentiment         27481 non-null  object \n",
            " 4   Time of Tweet     27481 non-null  object \n",
            " 5   Age of User       27481 non-null  object \n",
            " 6   Country           27481 non-null  object \n",
            " 7   Population -2020  27481 non-null  int64  \n",
            " 8   Land Area (Km²)   27481 non-null  float64\n",
            " 9   Density (P/Km²)   27481 non-null  int64  \n",
            "dtypes: float64(1), int64(2), object(7)\n",
            "memory usage: 2.1+ MB\n"
          ]
        }
      ]
    },
    {
      "cell_type": "markdown",
      "source": [
        "## pre-processing\n"
      ],
      "metadata": {
        "id": "2tKaUsP6G14K"
      }
    },
    {
      "cell_type": "code",
      "source": [
        "train_ds['text'].fillna('',inplace=True)\n",
        "validation_ds['text'].fillna('',inplace=True)"
      ],
      "metadata": {
        "colab": {
          "base_uri": "https://localhost:8080/"
        },
        "id": "o5_HQgvsDBGW",
        "outputId": "8a37daa4-caea-402e-b611-2766e02d7500"
      },
      "execution_count": null,
      "outputs": [
        {
          "output_type": "stream",
          "name": "stderr",
          "text": [
            "<ipython-input-48-cb58bb3e5260>:1: FutureWarning: A value is trying to be set on a copy of a DataFrame or Series through chained assignment using an inplace method.\n",
            "The behavior will change in pandas 3.0. This inplace method will never work because the intermediate object on which we are setting values always behaves as a copy.\n",
            "\n",
            "For example, when doing 'df[col].method(value, inplace=True)', try using 'df.method({col: value}, inplace=True)' or df[col] = df[col].method(value) instead, to perform the operation inplace on the original object.\n",
            "\n",
            "\n",
            "  train_ds['text'].fillna('',inplace=True)\n",
            "<ipython-input-48-cb58bb3e5260>:2: FutureWarning: A value is trying to be set on a copy of a DataFrame or Series through chained assignment using an inplace method.\n",
            "The behavior will change in pandas 3.0. This inplace method will never work because the intermediate object on which we are setting values always behaves as a copy.\n",
            "\n",
            "For example, when doing 'df[col].method(value, inplace=True)', try using 'df.method({col: value}, inplace=True)' or df[col] = df[col].method(value) instead, to perform the operation inplace on the original object.\n",
            "\n",
            "\n",
            "  validation_ds['text'].fillna('',inplace=True)\n"
          ]
        }
      ]
    },
    {
      "cell_type": "code",
      "source": [
        "nltk.download('wordnet')\n",
        "nltk.download('punkt')\n",
        "nltk.download('stopwords')\n",
        "nltk.download('omw-1.4')\n",
        "nltk.download('punkt_tab')"
      ],
      "metadata": {
        "colab": {
          "base_uri": "https://localhost:8080/"
        },
        "id": "C0Lj6Ee8Fzq0",
        "outputId": "d6365c59-979a-4117-a74b-6755f82c469a"
      },
      "execution_count": null,
      "outputs": [
        {
          "output_type": "stream",
          "name": "stderr",
          "text": [
            "[nltk_data] Downloading package wordnet to /root/nltk_data...\n",
            "[nltk_data]   Package wordnet is already up-to-date!\n",
            "[nltk_data] Downloading package punkt to /root/nltk_data...\n",
            "[nltk_data]   Package punkt is already up-to-date!\n",
            "[nltk_data] Downloading package stopwords to /root/nltk_data...\n",
            "[nltk_data]   Package stopwords is already up-to-date!\n",
            "[nltk_data] Downloading package omw-1.4 to /root/nltk_data...\n",
            "[nltk_data]   Package omw-1.4 is already up-to-date!\n",
            "[nltk_data] Downloading package punkt_tab to /root/nltk_data...\n",
            "[nltk_data]   Package punkt_tab is already up-to-date!\n"
          ]
        },
        {
          "output_type": "execute_result",
          "data": {
            "text/plain": [
              "True"
            ]
          },
          "metadata": {},
          "execution_count": 18
        }
      ]
    },
    {
      "cell_type": "markdown",
      "source": [
        "## Clears urls, HTML tags, punctuation and stop words\n"
      ],
      "metadata": {
        "id": "_I8X5mP1G59B"
      }
    },
    {
      "cell_type": "code",
      "source": [
        "stop_word=set(stopwords.words('english'))\n",
        "st=PorterStemmer()\n",
        "\n",
        "def clear_text(text):\n",
        "    text=str(text).lower()\n",
        "    text=re.sub('<.*>','',text)\n",
        "    text=re.sub('http\\S+|https\\S+|www\\S+','',text)\n",
        "    text=re.sub('@\\S+|#\\S+','',text)\n",
        "    text=re.sub('[^\\w\\s]','',text)\n",
        "    tokens=word_tokenize(text)\n",
        "    tokens=[token for token in tokens if token not in stop_word]\n",
        "    tokens=[st.stem(token) for token in tokens]\n",
        "    return ' '.join(tokens)\n",
        "\n",
        "train_ds['text'] = train_ds['text'].fillna('').apply(clear_text)\n",
        "validation_ds['text'] = validation_ds['text'].fillna('').apply(clear_text)"
      ],
      "metadata": {
        "id": "HFbFtmr4F7BC"
      },
      "execution_count": null,
      "outputs": []
    },
    {
      "cell_type": "markdown",
      "source": [
        "## Strings to integers\n"
      ],
      "metadata": {
        "id": "KtCn2DvPHHT_"
      }
    },
    {
      "cell_type": "code",
      "source": [
        "def func(sentiment):\n",
        "    if sentiment =='positive':\n",
        "        return 0;\n",
        "    elif sentiment =='negative':\n",
        "        return 1;\n",
        "    else:\n",
        "        return 2;\n",
        "train_ds['sentiment'] = train_ds['sentiment'].apply(func)\n",
        "validation_ds['sentiment'] = validation_ds['sentiment'].apply(func)"
      ],
      "metadata": {
        "id": "J0pMscMEDGCo"
      },
      "execution_count": null,
      "outputs": []
    },
    {
      "cell_type": "markdown",
      "source": [
        "## Dataframe to Numpy arrays"
      ],
      "metadata": {
        "id": "qlgaMc1CHNP3"
      }
    },
    {
      "cell_type": "code",
      "source": [
        "x_train = np.array(train_ds['text'].tolist())\n",
        "y_train = np.array(train_ds['sentiment'].tolist())\n",
        "x_test = np.array(validation_ds['text'].tolist())\n",
        "y_test = np.array(validation_ds['sentiment'].tolist())"
      ],
      "metadata": {
        "id": "tOZQJV8kDTk2"
      },
      "execution_count": null,
      "outputs": []
    },
    {
      "cell_type": "code",
      "source": [
        "y_train = to_categorical(y_train, 3)\n",
        "y_test = to_categorical(y_test, 3)"
      ],
      "metadata": {
        "id": "1ceFk5Y0DWDp"
      },
      "execution_count": null,
      "outputs": []
    },
    {
      "cell_type": "markdown",
      "source": [
        "## Text vectorization pad sequencing"
      ],
      "metadata": {
        "id": "BNWSEzWDHUh5"
      }
    },
    {
      "cell_type": "code",
      "source": [
        "tokenizer = Tokenizer(num_words=20000)\n",
        "tokenizer.fit_on_texts(x_train)\n",
        "tokenizer.fit_on_texts(x_test)"
      ],
      "metadata": {
        "id": "_YaKG_9qDj4O"
      },
      "execution_count": null,
      "outputs": []
    },
    {
      "cell_type": "code",
      "source": [
        "x_train = tokenizer.texts_to_sequences(x_train)\n",
        "x_test = tokenizer.texts_to_sequences(x_test)"
      ],
      "metadata": {
        "id": "VKocYNgLDpRO"
      },
      "execution_count": null,
      "outputs": []
    },
    {
      "cell_type": "code",
      "source": [
        "from keras.utils import pad_sequences\n",
        "x_train = pad_sequences(x_train, padding='post', maxlen=35)\n",
        "x_test = pad_sequences(x_test, padding='post', maxlen=35)"
      ],
      "metadata": {
        "id": "JRKQujbtDr_m"
      },
      "execution_count": null,
      "outputs": []
    },
    {
      "cell_type": "code",
      "source": [
        "embedding_layer = Embedding(input_dim=20000,\n",
        "                            output_dim=5,\n",
        "                            input_length=35)"
      ],
      "metadata": {
        "colab": {
          "base_uri": "https://localhost:8080/"
        },
        "id": "2KpJ23Dj2pt3",
        "outputId": "399c24e2-fba2-4d12-8ce0-9a03aeed3804"
      },
      "execution_count": null,
      "outputs": [
        {
          "output_type": "stream",
          "name": "stderr",
          "text": [
            "/usr/local/lib/python3.10/dist-packages/keras/src/layers/core/embedding.py:90: UserWarning: Argument `input_length` is deprecated. Just remove it.\n",
            "  warnings.warn(\n"
          ]
        }
      ]
    },
    {
      "cell_type": "code",
      "source": [
        "model = Sequential()\n",
        "model.add(Embedding(input_dim=20000, output_dim=5, input_length=35))\n",
        "model.add(tf.keras.layers.Dropout(0.2))\n",
        "model.add(SimpleRNN(32,return_sequences=False))\n",
        "model.add(tf.keras.layers.Dropout(0.2))\n",
        "model.add(Dense(3,activation='softmax'))\n",
        "\n",
        "model.compile(optimizer='adam',\n",
        "              loss='categorical_crossentropy',\n",
        "              metrics=['accuracy'])\n",
        "\n",
        "es = tf.keras.callbacks.EarlyStopping(monitor='val_accuracy', patience = 3, verbose=1, restore_best_weights=True)\n",
        "\n",
        "history = model.fit(x_train,\n",
        "                    y_train,\n",
        "                    epochs=10,\n",
        "                    batch_size=32,\n",
        "                    validation_data=(x_test, y_test),\n",
        "                    callbacks = [es])"
      ],
      "metadata": {
        "colab": {
          "base_uri": "https://localhost:8080/"
        },
        "id": "qjvkVk-FDu-X",
        "outputId": "0c1fa97a-ec55-46ba-d24a-709becdd4d00"
      },
      "execution_count": null,
      "outputs": [
        {
          "output_type": "stream",
          "name": "stdout",
          "text": [
            "Epoch 1/10\n"
          ]
        },
        {
          "output_type": "stream",
          "name": "stderr",
          "text": [
            "/usr/local/lib/python3.10/dist-packages/keras/src/layers/core/embedding.py:90: UserWarning: Argument `input_length` is deprecated. Just remove it.\n",
            "  warnings.warn(\n"
          ]
        },
        {
          "output_type": "stream",
          "name": "stdout",
          "text": [
            "\u001b[1m859/859\u001b[0m \u001b[32m━━━━━━━━━━━━━━━━━━━━\u001b[0m\u001b[37m\u001b[0m \u001b[1m83s\u001b[0m 14ms/step - accuracy: 0.4234 - loss: 1.0589 - val_accuracy: 0.7319 - val_loss: 0.7327\n",
            "Epoch 2/10\n",
            "\u001b[1m859/859\u001b[0m \u001b[32m━━━━━━━━━━━━━━━━━━━━\u001b[0m\u001b[37m\u001b[0m \u001b[1m11s\u001b[0m 13ms/step - accuracy: 0.6630 - loss: 0.7804 - val_accuracy: 0.7612 - val_loss: 0.6288\n",
            "Epoch 3/10\n",
            "\u001b[1m859/859\u001b[0m \u001b[32m━━━━━━━━━━━━━━━━━━━━\u001b[0m\u001b[37m\u001b[0m \u001b[1m11s\u001b[0m 13ms/step - accuracy: 0.7507 - loss: 0.6326 - val_accuracy: 0.7637 - val_loss: 0.5961\n",
            "Epoch 4/10\n",
            "\u001b[1m859/859\u001b[0m \u001b[32m━━━━━━━━━━━━━━━━━━━━\u001b[0m\u001b[37m\u001b[0m \u001b[1m10s\u001b[0m 11ms/step - accuracy: 0.7885 - loss: 0.5597 - val_accuracy: 0.7688 - val_loss: 0.5870\n",
            "Epoch 5/10\n",
            "\u001b[1m859/859\u001b[0m \u001b[32m━━━━━━━━━━━━━━━━━━━━\u001b[0m\u001b[37m\u001b[0m \u001b[1m12s\u001b[0m 13ms/step - accuracy: 0.8144 - loss: 0.4961 - val_accuracy: 0.7649 - val_loss: 0.6120\n",
            "Epoch 6/10\n",
            "\u001b[1m859/859\u001b[0m \u001b[32m━━━━━━━━━━━━━━━━━━━━\u001b[0m\u001b[37m\u001b[0m \u001b[1m21s\u001b[0m 14ms/step - accuracy: 0.8349 - loss: 0.4569 - val_accuracy: 0.7570 - val_loss: 0.6059\n",
            "Epoch 7/10\n",
            "\u001b[1m859/859\u001b[0m \u001b[32m━━━━━━━━━━━━━━━━━━━━\u001b[0m\u001b[37m\u001b[0m \u001b[1m12s\u001b[0m 13ms/step - accuracy: 0.8403 - loss: 0.4392 - val_accuracy: 0.7595 - val_loss: 0.6239\n",
            "Epoch 7: early stopping\n",
            "Restoring model weights from the end of the best epoch: 4.\n"
          ]
        }
      ]
    },
    {
      "cell_type": "code",
      "source": [
        "plt.plot(history.history['val_accuracy'], label='val Accuracy')\n",
        "plt.plot(history.history['val_loss'], label='Val Loss')\n",
        "plt.legend()\n",
        "plt.show()"
      ],
      "metadata": {
        "colab": {
          "base_uri": "https://localhost:8080/",
          "height": 430
        },
        "id": "kBCN53OnM36W",
        "outputId": "7b61714b-dfa1-4bff-aee1-508178714e06"
      },
      "execution_count": null,
      "outputs": [
        {
          "output_type": "display_data",
          "data": {
            "text/plain": [
              "<Figure size 640x480 with 1 Axes>"
            ],
            "image/png": "[encoded data removed]"
          },
          "metadata": {}
        }
      ]
    },
    {
      "cell_type": "code",
      "source": [
        "text = input(\"Enter your text: \")\n",
        "\n",
        "new_text_seq = tokenizer.texts_to_sequences([text])\n",
        "new_text_padded = pad_sequences(new_text_seq, padding='post', maxlen=35)\n",
        "predictions = model.predict(new_text_padded)\n",
        "predicted_class_index = predictions.argmax(axis=-1)\n",
        "\n",
        "if predicted_class_index[0] == 0:\n",
        "    print(\"Postive Sentiment\");\n",
        "elif predicted_class_index[0] == 1:\n",
        "    print(\"Negative Sentiment\")\n",
        "else:\n",
        "    print(\"Neutral Sentiment\")"
      ],
      "metadata": {
        "colab": {
          "base_uri": "https://localhost:8080/"
        },
        "id": "rqlDH4BXEAIO",
        "outputId": "27216537-5c34-456f-b826-75a099bb98f5"
      },
      "execution_count": null,
      "outputs": [
        {
          "output_type": "stream",
          "name": "stdout",
          "text": [
            "Enter your text: Sooo SAD I will miss you here in San Diego!!!\n",
            "\u001b[1m1/1\u001b[0m \u001b[32m━━━━━━━━━━━━━━━━━━━━\u001b[0m\u001b[37m\u001b[0m \u001b[1m0s\u001b[0m 35ms/step\n",
            "Negative Sentiment\n"
          ]
        }
      ]
    },
    {
      "cell_type": "code",
      "source": [
        "model.save(\"model.h5\")"
      ],
      "metadata": {
        "colab": {
          "base_uri": "https://localhost:8080/"
        },
        "id": "6IrPvAm5CN1W",
        "outputId": "e83fda24-8235-4053-f651-55bff5166aab"
      },
      "execution_count": null,
      "outputs": [
        {
          "output_type": "stream",
          "name": "stderr",
          "text": [
            "WARNING:absl:You are saving your model as an HDF5 file via `model.save()` or `keras.saving.save_model(model)`. This file format is considered legacy. We recommend using instead the native Keras format, e.g. `model.save('my_model.keras')` or `keras.saving.save_model(model, 'my_model.keras')`. \n"
          ]
        }
      ]
    }
  ]
}